{
 "cells": [
  {
   "cell_type": "raw",
   "id": "44cde33c",
   "metadata": {},
   "source": [
    "Ques 1) \n",
    "Your Friend has developed the Product and he wants to establish the product startup and he is searching for a perfect location where getting the investment has a high chance. But due to its financial restriction, he can choose only between three locations -  Bangalore, Mumbai, and NCR. As a friend, you want to help your friend deciding the location. NCR include Gurgaon, Noida and New Delhi. Find the location where the most number of funding is done. That means, find the location where startups has received funding maximum number of times. Plot the bar graph between location and number of funding. Take city name \"Delhi\" as \"New Delhi\". Check the case-sensitiveness of cities also. That means, at some place instead of \"Bangalore\", \"bangalore\" is given. Take city name as \"Bangalore\". For few startups multiple locations are given, one Indian and one Foreign. Consider the startup if any one of the city lies in given locations."
   ]
  },
  {
   "cell_type": "markdown",
   "id": "563d9615",
   "metadata": {},
   "source": [
    "## Importing the Libraries"
   ]
  },
  {
   "cell_type": "code",
   "execution_count": 1,
   "id": "eebc582d",
   "metadata": {},
   "outputs": [],
   "source": [
    "import numpy as np # To create n dimensional arrays\n",
    "import pandas as pd # To read and create a dataframe for the dataset\n",
    "import matplotlib.pyplot as plt # To plot the graphs."
   ]
  },
  {
   "cell_type": "markdown",
   "id": "2d06eceb",
   "metadata": {},
   "source": [
    "## Getting the Dataset"
   ]
  },
  {
   "cell_type": "code",
   "execution_count": 2,
   "id": "1b927f8c",
   "metadata": {},
   "outputs": [],
   "source": [
    "# Reading the file\n",
    "dataset = pd.read_csv('startup_funding.csv', skipinitialspace = True, encoding = 'UTF-8')\n",
    "df = dataset.copy() # Just a another dataframe, so that we can get back to our original dataframe if required"
   ]
  },
  {
   "cell_type": "markdown",
   "id": "3563afb8",
   "metadata": {},
   "source": [
    "## Taking care of the Discrepancies"
   ]
  },
  {
   "cell_type": "code",
   "execution_count": 3,
   "id": "9caff100",
   "metadata": {},
   "outputs": [],
   "source": [
    "# replace function is used to replace data values with another in dataframe, inplace is used to make changes in \n",
    "# the original or not\n",
    "df.CityLocation.replace('bangalore', 'Bangalore', inplace = True) \n",
    "df.CityLocation.replace('Delhi', 'New Delhi', inplace = True)"
   ]
  },
  {
   "cell_type": "markdown",
   "id": "29bf4948",
   "metadata": {},
   "source": [
    "## Solution for the Problem"
   ]
  },
  {
   "cell_type": "code",
   "execution_count": 11,
   "id": "c1ffde0c",
   "metadata": {},
   "outputs": [],
   "source": [
    "# Gathering all the cities from the dataset and putting into the numpy array\n",
    "city_data = np.array(df.CityLocation) \n",
    "cities = []\n",
    "for c in city_data:\n",
    "    if c != np.nan: # some rows in dataset are empty\n",
    "        # City in city_data may contain more than one city hence using split() function to seperate it out\n",
    "        x = str(c).split('/')\n",
    "        # Each string may contain an extra space character in the end or at beginning and hence that character\n",
    "        # not required\n",
    "        for k in x:\n",
    "            if k[0] == ' ':\n",
    "                k = k[1:]\n",
    "            if k[-1] == ' ':\n",
    "                k = k[:-1]\n",
    "            cities.append(k)\n",
    "cities = np.array(cities) # Numpy array of all cities\n",
    "# Getting frequency of (City given above) string occured in cities\n",
    "bn = len(np.where(cities == 'Bangalore')[0])\n",
    "mum = len(np.where(cities == 'Mumbai')[0])\n",
    "# Since NCR consist of three Cities :- New Delhi, Gurgaom, Noida\n",
    "# We need to take care of all of them\n",
    "ncr = len(np.where((cities == 'New Delhi')|(cities == 'Gurgaon')|(cities == 'Noida'))[0])"
   ]
  },
  {
   "cell_type": "markdown",
   "id": "ceed61c6",
   "metadata": {},
   "source": [
    "## Plotting the Graph"
   ]
  },
  {
   "cell_type": "code",
   "execution_count": 5,
   "id": "5c989949",
   "metadata": {},
   "outputs": [
    {
     "data": {
      "image/png": "[encoded data removed]",
      "text/plain": [
       "<Figure size 432x288 with 1 Axes>"
      ]
     },
     "metadata": {
      "needs_background": "light"
     },
     "output_type": "display_data"
    }
   ],
   "source": [
    "cities = ['Bangalore', 'Mumbai', 'NCR']\n",
    "values = [bn,mum,ncr]\n",
    "plt.bar(cities, values, color = ['Red', 'Green', 'Blue'], edgecolor = 'black')\n",
    "plt.xlabel('<--- City --->', fontsize = 17)\n",
    "plt.ylabel('<--- No of Fundings --->', fontsize = 17)\n",
    "plt.ylim(0, 780) # ylim is used to describe the limited of y-axis.\n",
    "plt.yticks(fontsize = 12)\n",
    "plt.xticks(rotation = 0, fontsize = 15)\n",
    "for i in range(len(cities)):\n",
    "    plt.text(i-0.1, values[i]+20, values[i], fontsize = 12)\n",
    "plt.title('No of Fundings Among the Cities', fontsize = 18)\n",
    "plt.show()"
   ]
  }
 ],
 "metadata": {
  "kernelspec": {
   "display_name": "Python 3 (ipykernel)",
   "language": "python",
   "name": "python3"
  },
  "language_info": {
   "codemirror_mode": {
    "name": "ipython",
    "version": 3
   },
   "file_extension": ".py",
   "mimetype": "text/x-python",
   "name": "python",
   "nbconvert_exporter": "python",
   "pygments_lexer": "ipython3",
   "version": "3.9.7"
  }
 },
 "nbformat": 4,
 "nbformat_minor": 5
}
